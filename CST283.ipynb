{
  "cells": [
    {
      "cell_type": "markdown",
      "metadata": {
        "id": "view-in-github",
        "colab_type": "text"
      },
      "source": [
        "<a href=\"https://colab.research.google.com/github/Mariachittamadathil/natural_numbers.-py/blob/main/CST283.ipynb\" target=\"_parent\"><img src=\"https://colab.research.google.com/assets/colab-badge.svg\" alt=\"Open In Colab\"/></a>"
      ]
    },
    {
      "cell_type": "markdown",
      "metadata": {
        "id": "sdtJ1z-4imU5"
      },
      "source": [
        "**19 Jan 2022**"
      ]
    },
    {
      "cell_type": "code",
      "execution_count": null,
      "metadata": {
        "id": "rt5LRfqq8ryD"
      },
      "outputs": [],
      "source": [
        ""
      ]
    },
    {
      "cell_type": "code",
      "execution_count": null,
      "metadata": {
        "colab": {
          "base_uri": "https://localhost:8080/"
        },
        "id": "JAphsnQVfXu5",
        "outputId": "07f5b97e-03a1-4dbf-da97-5377c124df6b"
      },
      "outputs": [
        {
          "name": "stdout",
          "output_type": "stream",
          "text": [
            "1\n",
            "hello\n",
            "1 hello Himagouri\n"
          ]
        }
      ],
      "source": [
        "# Print\n",
        "\n",
        "print(1)\n",
        "print('hello')\n",
        "\n",
        "print(1, 'hello', 'Himagouri')"
      ]
    },
    {
      "cell_type": "code",
      "execution_count": null,
      "metadata": {
        "id": "K27O6kYNf5te"
      },
      "outputs": [],
      "source": [
        "#Question\n",
        "\"Hello, World!\""
      ]
    },
    {
      "cell_type": "markdown",
      "metadata": {
        "id": "RwZ4JuEi8ufr"
      },
      "source": [
        ""
      ]
    },
    {
      "cell_type": "code",
      "execution_count": null,
      "metadata": {
        "colab": {
          "base_uri": "https://localhost:8080/"
        },
        "id": "3-_TLxd8f2WR",
        "outputId": "b3bd57c5-5901-4b81-9645-f6dd628c7081"
      },
      "outputs": [
        {
          "name": "stdout",
          "output_type": "stream",
          "text": [
            "Enter x6\n",
            "36\n"
          ]
        }
      ],
      "source": [
        "#Variables\n",
        "a = 5\n",
        "x = input(\"Enter x\") # Accepts input as string by default\n",
        "int_x = int(x) # Give meaningful names\n",
        "              # camelCase or snake_case\n",
        "\n",
        "print(int_x**2)\n"
      ]
    },
    {
      "cell_type": "code",
      "execution_count": null,
      "metadata": {
        "colab": {
          "base_uri": "https://localhost:8080/"
        },
        "id": "QXtVasujfkvE",
        "outputId": "c3994d4b-fbd2-47c1-9083-8e3694bf1360"
      },
      "outputs": [
        {
          "name": "stdout",
          "output_type": "stream",
          "text": [
            "5\n",
            "odd\n"
          ]
        }
      ],
      "source": [
        "# If-else\n",
        "x = int(input())\n",
        "if (x % 2 == 0):\n",
        "  print('even')\n",
        "else:\n",
        "  print('odd')"
      ]
    },
    {
      "cell_type": "code",
      "execution_count": null,
      "metadata": {
        "id": "JUZ4NZ0Vn2Ss"
      },
      "outputs": [],
      "source": [
        "# Accept input from the user\n",
        "# print A  if number is between 1 and 10 (including 1 and 10)\n",
        "#print B if number is between 11 and 20 (including 11 and 20)\n",
        "#else print C\n",
        "\n",
        "# Only the first satisying block in the if-elif-else will be executed\n",
        "x = int(input())\n",
        "if (x >= 1) and (x <= 10):\n",
        "  print('A')\n",
        "elif (x >= 11) and (x <= 20):\n",
        "  print('B')\n",
        "elif (x < 0):\n",
        "  print('Negative')\n",
        "else:\n",
        "  print('C')\n",
        "\n",
        "\n"
      ]
    },
    {
      "cell_type": "code",
      "execution_count": null,
      "metadata": {
        "id": "PJagxJbNoJuc"
      },
      "outputs": [],
      "source": [
        "'''If  n is odd, print Weird\n",
        "If  n is even and in the inclusive range of  2 to 5 , print Not Weird\n",
        "If  n is even and in the inclusive range of  6 to 20, print Weird\n",
        "If  n is even and greater than 20, print Not Weird'''\n",
        "    if (n % 2 == 1):\n",
        "         print('Weird')\n",
        "    elif (n >= 2 and n <= 5):\n",
        "        print('Not Weird')\n",
        "    elif (n >= 6 and n <= 20):\n",
        "        print('Weird')\n",
        "    elif n>20:\n",
        "        print('Not Weird')\n",
        "        "
      ]
    },
    {
      "cell_type": "code",
      "execution_count": null,
      "metadata": {
        "colab": {
          "base_uri": "https://localhost:8080/"
        },
        "id": "GgrUAulRwh2x",
        "outputId": "7ecd43d0-4ab5-43b3-d712-841d882f2188"
      },
      "outputs": [
        {
          "name": "stdout",
          "output_type": "stream",
          "text": [
            "12\n",
            "-2\n",
            "35\n",
            "2.6666666666666665\n",
            "2\n"
          ]
        }
      ],
      "source": [
        "# Arithmetic operators\n",
        "a = 5\n",
        "b = 7\n",
        "\n",
        "print(a+b)\n",
        "print(a-b)\n",
        "print(a*b)\n",
        "print(8/3) # float divisin\n",
        "print(8//3) # integer division"
      ]
    },
    {
      "cell_type": "code",
      "execution_count": null,
      "metadata": {
        "id": "1NXCXF19yczW"
      },
      "outputs": [],
      "source": [
        "'''Input two integers a and b\n",
        "print sum of the integers in first line\n",
        "print difference (a - b) in second line\n",
        "print product of integers in third line'''\n",
        "\n",
        "a = int(input())\n",
        "b = int(input())\n",
        "print(a + b)\n",
        "print(a - b)\n",
        "print(a * b)\n",
        "\n"
      ]
    },
    {
      "cell_type": "code",
      "execution_count": null,
      "metadata": {
        "colab": {
          "base_uri": "https://localhost:8080/"
        },
        "id": "CDBQpv7xz5T-",
        "outputId": "d4d70c6c-2d3a-41c8-f43d-8962cf21d37f"
      },
      "outputs": [
        {
          "name": "stdout",
          "output_type": "stream",
          "text": [
            "3\n",
            "Squares\n",
            "1\n",
            "4\n",
            "9\n",
            "Complex operation on 3 gives 117\n",
            "Sum of 3 + 3 = 6\n"
          ]
        }
      ],
      "source": [
        "# Functions\n",
        "\n",
        "\n",
        "def square(x):\n",
        "  return x**2\n",
        "\n",
        "def add(a, b):\n",
        "  return a+b\n",
        "\n",
        "def complex_operation(x):\n",
        "  a =  x**2 + x**3\n",
        "  b = x**4\n",
        "  return a + b\n",
        "\n",
        "n = int(input()) # Get input n and perform various functions on n\n",
        "print('Squares')\n",
        "for i in range(1, n+1):\n",
        "  print(square(i))\n",
        "\n",
        "print('Complex operation on', n, 'gives',complex_operation(n))\n",
        "\n",
        "print('Sum of',n,'+',n,'=',add(n, n))\n"
      ]
    },
    {
      "cell_type": "code",
      "execution_count": null,
      "metadata": {
        "colab": {
          "base_uri": "https://localhost:8080/",
          "height": 35
        },
        "id": "jPfRaS5957_X",
        "outputId": "0ee02592-2920-4ac7-fc09-b6cd48743e85"
      },
      "outputs": [
        {
          "data": {
            "application/vnd.google.colaboratory.intrinsic+json": {
              "type": "string"
            },
            "text/plain": [
              "'5'"
            ]
          },
          "execution_count": 9,
          "metadata": {},
          "output_type": "execute_result"
        }
      ],
      "source": [
        "x = '    5 ' \n",
        "x.strip() # Strips away empty spaces on both ends of the string"
      ]
    },
    {
      "cell_type": "markdown",
      "metadata": {
        "id": "XN1L6LqKi4s2"
      },
      "source": [
        "**21 Jan 2022**"
      ]
    },
    {
      "cell_type": "code",
      "execution_count": null,
      "metadata": {
        "id": "AepT-HRkhT4f"
      },
      "outputs": [],
      "source": [
        "'''integer n from STDIN. For all non-negative integers i < n, print i^2.\n",
        "Input\n",
        "5\n",
        "Ouput \n",
        "0\n",
        "1\n",
        "4\n",
        "9\n",
        "16'''"
      ]
    },
    {
      "cell_type": "code",
      "execution_count": null,
      "metadata": {
        "colab": {
          "base_uri": "https://localhost:8080/"
        },
        "id": "odLErlBY4Xtq",
        "outputId": "f9fc32ca-96c0-48db-9cbc-5eee508a864a"
      },
      "outputs": [
        {
          "name": "stdout",
          "output_type": "stream",
          "text": [
            "5\n",
            "0\n",
            "1\n",
            "4\n",
            "9\n",
            "16\n"
          ]
        }
      ],
      "source": [
        "n = int(input())\n",
        "for i in range(n):\n",
        "  print(i**2)\n"
      ]
    },
    {
      "cell_type": "code",
      "execution_count": null,
      "metadata": {
        "id": "5x49dNWm6z2R"
      },
      "outputs": [],
      "source": [
        "'''The year can be evenly divided by 4, is a leap year, unless:\n",
        "The year can be evenly divided by 100, it is NOT a leap year, unless:\n",
        "The year is also evenly divisible by 400. Then it is a leap year.'''"
      ]
    },
    {
      "cell_type": "code",
      "execution_count": null,
      "metadata": {
        "colab": {
          "base_uri": "https://localhost:8080/"
        },
        "id": "msWivmt066dh",
        "outputId": "66c10d06-f91d-4db1-ef31-1b50f15cccc0"
      },
      "outputs": [
        {
          "name": "stdout",
          "output_type": "stream",
          "text": [
            "False\n"
          ]
        }
      ],
      "source": [
        "import calendar\n",
        "def is_leap(year):\n",
        "    # Write your logic here\n",
        "    return calendar.isleap(year) \n",
        "    \n",
        "print(is_leap(2300))"
      ]
    },
    {
      "cell_type": "code",
      "execution_count": null,
      "metadata": {
        "id": "6pdhu0BY9-f7"
      },
      "outputs": [],
      "source": [
        "# Data types in Python\n",
        "# int, float, list, tuple, range, dict, set, bool"
      ]
    },
    {
      "cell_type": "code",
      "execution_count": null,
      "metadata": {
        "colab": {
          "base_uri": "https://localhost:8080/"
        },
        "id": "V7DTaTQP-aaf",
        "outputId": "b60db1bc-caa3-426d-9446-a6b617984fe0"
      },
      "outputs": [
        {
          "name": "stdout",
          "output_type": "stream",
          "text": [
            "<class 'int'>\n",
            "<class 'float'>\n"
          ]
        }
      ],
      "source": [
        "# Get the type of a variable\n",
        "# type()\n",
        "x = 5\n",
        "y = 7.5\n",
        "print(type(x))\n",
        "print(type(y))"
      ]
    },
    {
      "cell_type": "code",
      "execution_count": null,
      "metadata": {
        "colab": {
          "base_uri": "https://localhost:8080/"
        },
        "id": "zbg-jjwi-vdB",
        "outputId": "9d9d1d01-182c-4ab1-a364-3eb7e9671013"
      },
      "outputs": [
        {
          "name": "stdout",
          "output_type": "stream",
          "text": [
            "<class 'int'>\n",
            "<class 'float'>\n"
          ]
        }
      ],
      "source": [
        "#int + int = int\n",
        "type(x+5)\n",
        "2/2 # division will be alway float\n",
        "# int + float = float\n",
        "a = 5\n",
        "b = 5.5\n",
        "print(type(a))\n",
        "a = a + b\n",
        "print(type(a))\n",
        "\n",
        "# Convert type - give error if not compatibe\n",
        "# int('a')"
      ]
    },
    {
      "cell_type": "code",
      "execution_count": null,
      "metadata": {
        "id": "TmUzZOPD_1Rz"
      },
      "outputs": [],
      "source": [
        "float('80')\n"
      ]
    },
    {
      "cell_type": "code",
      "execution_count": null,
      "metadata": {
        "colab": {
          "base_uri": "https://localhost:8080/"
        },
        "id": "q-2SzKabAg7F",
        "outputId": "f9ec9845-a1fd-473a-c4c0-9bed03ba261e"
      },
      "outputs": [
        {
          "name": "stdout",
          "output_type": "stream",
          "text": [
            "Sachin Laxman\n",
            "namessss 5.3\n",
            "[1, 5.3, 'namessss']\n"
          ]
        }
      ],
      "source": [
        "# list\n",
        "# group of related elements\n",
        "# ordered\n",
        "# Associate multiple values with one name\n",
        "names = ['Sachin', 'Rahul', 'Laxman']\n",
        "print(names[0], names[2]) # indexing\n",
        "\n",
        "# different data types can be stored in same list\n",
        "mixed_list = [1, 5.3, 'namessss']\n",
        "#element from the end - use negative indexes\n",
        "print(mixed_list[-1], mixed_list[-2])\n",
        "print(mixed_list)\n",
        "\n",
        "\n",
        "\n"
      ]
    },
    {
      "cell_type": "code",
      "execution_count": null,
      "metadata": {
        "id": "iHJlIsk_DOLK"
      },
      "outputs": [],
      "source": [
        "numbers = [5,8,2,6,4,1]\n",
        "print(numbers)\n",
        "print(*numbers)\n",
        "n_elems = len(numbers) # size of list or number of elements \n",
        "print(n_elems)\n",
        "# iterate through the list\n",
        "for i in range(n_elems):\n",
        "  elem = numbers[i]\n",
        "  print(elem)\n"
      ]
    },
    {
      "cell_type": "code",
      "execution_count": null,
      "metadata": {
        "id": "iVAYr8leFww4"
      },
      "outputs": [],
      "source": [
        "# simpler syntax\n",
        "print('Simpler syntax')\n",
        "for elem in numbers:\n",
        "  print(elem)"
      ]
    },
    {
      "cell_type": "code",
      "execution_count": null,
      "metadata": {
        "colab": {
          "base_uri": "https://localhost:8080/"
        },
        "id": "gOONdZG8F2AC",
        "outputId": "a56c8a69-2ed5-473d-8723-55b201b14011"
      },
      "outputs": [
        {
          "name": "stdout",
          "output_type": "stream",
          "text": [
            "[]\n",
            "[1]\n",
            "[1, 2]\n",
            "[1, 2, 3]\n"
          ]
        }
      ],
      "source": [
        "numbers = []\n",
        "#append\n",
        "print(numbers)\n",
        "numbers.append(1)\n",
        "print(numbers)\n",
        "numbers.append(2)\n",
        "print(numbers)\n",
        "numbers.append(3)\n",
        "print(numbers)"
      ]
    },
    {
      "cell_type": "code",
      "execution_count": null,
      "metadata": {
        "colab": {
          "base_uri": "https://localhost:8080/"
        },
        "id": "lz3FZCTtGbq7",
        "outputId": "5e39ba10-47dd-4eea-a85b-8eff2eecd085"
      },
      "outputs": [
        {
          "name": "stdout",
          "output_type": "stream",
          "text": [
            "2\n",
            "3\n",
            "4\n",
            "5\n",
            "6\n",
            "[2, 3, 4, 5, 6]\n"
          ]
        }
      ],
      "source": [
        "# Accept 5 integers and append to the list\n",
        "numbers = []\n",
        "# numbers = list()\n",
        "for i in range(5):\n",
        "  numbers.append(int(input()))\n",
        "print(numbers)\n"
      ]
    },
    {
      "cell_type": "code",
      "execution_count": null,
      "metadata": {
        "colab": {
          "base_uri": "https://localhost:8080/"
        },
        "id": "DIDtLmGKHR7W",
        "outputId": "f9aef972-af2b-4e14-fb70-1717bd877226"
      },
      "outputs": [
        {
          "name": "stdout",
          "output_type": "stream",
          "text": [
            "[3, 5, 9, 11]\n"
          ]
        }
      ],
      "source": [
        "# pick odd numbers\n",
        "numbers = [2, 3, 4, 5, 6, 9, 11]\n",
        "odd_numbers = []\n",
        "for elem in numbers:\n",
        "  if elem % 2 == 1:\n",
        "    odd_numbers.append(elem)\n",
        "print(odd_numbers)"
      ]
    },
    {
      "cell_type": "code",
      "execution_count": null,
      "metadata": {
        "colab": {
          "base_uri": "https://localhost:8080/"
        },
        "id": "tvnkLPtsIr66",
        "outputId": "ea0edb96-3f70-41db-b52b-46efb442c98f"
      },
      "outputs": [
        {
          "name": "stdout",
          "output_type": "stream",
          "text": [
            "[6, 10, 18, 22]\n"
          ]
        }
      ],
      "source": [
        "# list comprehension\n",
        "numbers = [2, 3, 4, 5, 6, 9, 11]\n",
        "odd_numbers = [x for x in numbers if elem % 2 == 1]\n",
        "print(odd_numbers)"
      ]
    },
    {
      "cell_type": "code",
      "execution_count": null,
      "metadata": {
        "colab": {
          "base_uri": "https://localhost:8080/"
        },
        "id": "gp1Y9WfoJ8ML",
        "outputId": "9a693229-b5e8-4432-8ac3-29c411a8aa01"
      },
      "outputs": [
        {
          "name": "stdout",
          "output_type": "stream",
          "text": [
            "[2, 5, 4, 1, 6, 8, 11]\n",
            "[1, 2, 4, 5, 6, 8, 11]\n"
          ]
        }
      ],
      "source": [
        "#sort list in python (in-place)\n",
        "numbers = [2, 5, 4, 1, 6, 8, 11]\n",
        "print(numbers)\n",
        "numbers.sort()\n",
        "print(numbers)"
      ]
    },
    {
      "cell_type": "code",
      "execution_count": null,
      "metadata": {
        "colab": {
          "base_uri": "https://localhost:8080/"
        },
        "id": "TygVUQ97KnRr",
        "outputId": "9be159d0-e61b-447d-fb6c-82cc83ac23dd"
      },
      "outputs": [
        {
          "name": "stdout",
          "output_type": "stream",
          "text": [
            "[2, 5, 4, 1, 6, 8, 11]\n",
            "[2, 5, 4, 1, 6, 8, 11]\n",
            "sorted copy [1, 2, 4, 5, 6, 8, 11]\n"
          ]
        }
      ],
      "source": [
        "# sorted copy - orignial is retained\n",
        "numbers = [2, 5, 4, 1, 6, 8, 11]\n",
        "print(numbers)\n",
        "s_numbers = sorted(numbers)\n",
        "print(numbers)\n",
        "print('sorted copy', s_numbers)"
      ]
    },
    {
      "cell_type": "code",
      "execution_count": null,
      "metadata": {
        "id": "yBUgUzXAz9YT"
      },
      "outputs": [],
      "source": [
        ""
      ]
    },
    {
      "cell_type": "markdown",
      "metadata": {
        "id": "yO5_VY88z95a"
      },
      "source": [
        "**28 Jan 2022**"
      ]
    },
    {
      "cell_type": "code",
      "execution_count": null,
      "metadata": {
        "colab": {
          "base_uri": "https://localhost:8080/"
        },
        "id": "pFxW2-Uo0TyK",
        "outputId": "c80890e2-7732-44ff-c084-0acdf431a129"
      },
      "outputs": [
        {
          "data": {
            "text/plain": [
              "[1, 2, 3, 4]"
            ]
          },
          "execution_count": 1,
          "metadata": {},
          "output_type": "execute_result"
        }
      ],
      "source": [
        "#Range\n",
        "\n",
        "# range(start, stop, step)\n",
        "\n",
        "list(range(1,5,1))"
      ]
    },
    {
      "cell_type": "code",
      "execution_count": null,
      "metadata": {
        "colab": {
          "base_uri": "https://localhost:8080/"
        },
        "id": "Hfkdj2ZN2dN1",
        "outputId": "adacd81e-1320-4633-f2d9-03cfb06ffeba"
      },
      "outputs": [
        {
          "data": {
            "text/plain": [
              "range(0, 5)"
            ]
          },
          "execution_count": 2,
          "metadata": {},
          "output_type": "execute_result"
        }
      ],
      "source": [
        "range(5)"
      ]
    },
    {
      "cell_type": "code",
      "execution_count": null,
      "metadata": {
        "colab": {
          "base_uri": "https://localhost:8080/"
        },
        "id": "khyNfGrs2tUM",
        "outputId": "69892c27-febd-4749-f751-2c2fb4723144"
      },
      "outputs": [
        {
          "data": {
            "text/plain": [
              "[2, 4, 6, 8]"
            ]
          },
          "execution_count": 3,
          "metadata": {},
          "output_type": "execute_result"
        }
      ],
      "source": [
        "list(range(2,9, 2))"
      ]
    },
    {
      "cell_type": "code",
      "execution_count": null,
      "metadata": {
        "id": "jY62BUvK3AbA"
      },
      "outputs": [],
      "source": [
        "# Generate a list of 1 to 100\n",
        "list(range(1,101))"
      ]
    },
    {
      "cell_type": "code",
      "execution_count": null,
      "metadata": {
        "colab": {
          "base_uri": "https://localhost:8080/"
        },
        "id": "msRsd1XL36tD",
        "outputId": "b1a33612-a5bc-4b17-f1c2-9fd7a831522c"
      },
      "outputs": [
        {
          "data": {
            "text/plain": [
              "['Aditya', 'Balu', 'Charu', 'Zeenath']"
            ]
          },
          "execution_count": 5,
          "metadata": {},
          "output_type": "execute_result"
        }
      ],
      "source": [
        "names = ['Aditya', 'Balu', 'Zeenath', 'Charu']\n",
        "names.sort() # strings will be sorted alphabetically\n",
        "names"
      ]
    },
    {
      "cell_type": "code",
      "execution_count": null,
      "metadata": {
        "colab": {
          "base_uri": "https://localhost:8080/"
        },
        "id": "8HVoROqf4PLr",
        "outputId": "d90839b1-6cc4-4f52-d108-e258b40c9d18"
      },
      "outputs": [
        {
          "name": "stdout",
          "output_type": "stream",
          "text": [
            "3\n",
            "Enter nameAfghfh\n",
            "Enter namezerffh\n",
            "Enter nameccafa\n",
            "['Afghfh', 'ccafa', 'zerffh']\n"
          ]
        }
      ],
      "source": [
        "# Accept n\n",
        "# Accept n names into a list\n",
        "# Sort the list alphabetically and display sorted\n",
        "\n",
        "n = int(input())\n",
        "names = []\n",
        "for i in range(n):\n",
        "  name = input('Enter name')\n",
        "  names.append(name)\n",
        "names.sort()\n",
        "print(names)"
      ]
    },
    {
      "cell_type": "code",
      "execution_count": null,
      "metadata": {
        "colab": {
          "base_uri": "https://localhost:8080/"
        },
        "id": "MXsMnRGV6UFI",
        "outputId": "e8825c69-78b1-45dd-ddd7-5784856aedee"
      },
      "outputs": [
        {
          "name": "stdout",
          "output_type": "stream",
          "text": [
            "[200, 300]\n",
            "[200, 400]\n",
            "[400, 300]\n",
            "all [100, 200, 300, 400, 500]\n",
            "reverse [500, 400, 300, 200, 100]\n"
          ]
        }
      ],
      "source": [
        "a = [100,200,300,400,500]\n",
        "\n",
        "# Slicing \n",
        "print(a[1:3]) # \n",
        "print(a[1:4:2])  #start index , stop index, step \n",
        "\n",
        "print(a[-2:-4:-1]) # slicing in reverse direction\n",
        "\n",
        "print('all', a[:]) # all elements\n",
        "print('reverse', a[::-1])\n",
        "\n",
        "\n"
      ]
    },
    {
      "cell_type": "code",
      "execution_count": null,
      "metadata": {
        "colab": {
          "base_uri": "https://localhost:8080/"
        },
        "id": "IAdz5QcK4QrG",
        "outputId": "ac4f49f8-8a29-4904-aef5-cbc7aec95915"
      },
      "outputs": [
        {
          "name": "stdout",
          "output_type": "stream",
          "text": [
            "reverse hgareerS\n"
          ]
        }
      ],
      "source": [
        "# Reverse a string - slice\n",
        "name = \"Sreeragh\"\n",
        "print('reverse', name[::-1])\n"
      ]
    },
    {
      "cell_type": "code",
      "execution_count": null,
      "metadata": {
        "colab": {
          "base_uri": "https://localhost:8080/"
        },
        "id": "ZqTTGqCr8pEm",
        "outputId": "d9490e50-d697-4148-8d46-3af8d56c4d50"
      },
      "outputs": [
        {
          "data": {
            "text/plain": [
              "[100, 200, 151]"
            ]
          },
          "execution_count": 49,
          "metadata": {},
          "output_type": "execute_result"
        }
      ],
      "source": [
        "# Remove\n",
        "numbers = [100,151,200,151] \n",
        "numbers.remove(151)\n",
        "numbers\n"
      ]
    },
    {
      "cell_type": "code",
      "execution_count": null,
      "metadata": {
        "id": "qSX13IA79AOx"
      },
      "outputs": [],
      "source": [
        "# Insert at an index position\n",
        "months = ['jan', 'mar', 'apr']\n",
        "print(months[1], months[2])\n",
        "months.insert(1, 'feb')\n",
        "print(months[1], months[2])\n",
        "\n"
      ]
    },
    {
      "cell_type": "code",
      "execution_count": null,
      "metadata": {
        "colab": {
          "base_uri": "https://localhost:8080/"
        },
        "id": "3RmZbm1_9v5x",
        "outputId": "def8d3fd-6377-4beb-b627-608d73aed869"
      },
      "outputs": [
        {
          "data": {
            "text/plain": [
              "list"
            ]
          },
          "execution_count": 26,
          "metadata": {},
          "output_type": "execute_result"
        }
      ],
      "source": [
        "# type()\n",
        "type([1,2])"
      ]
    },
    {
      "cell_type": "code",
      "execution_count": null,
      "metadata": {
        "colab": {
          "base_uri": "https://localhost:8080/"
        },
        "id": "fDNZuyzm9923",
        "outputId": "2be99253-4f78-4377-b896-2302e03c59d9"
      },
      "outputs": [
        {
          "data": {
            "text/plain": [
              "['jan', 'Mar', 'apr']"
            ]
          },
          "execution_count": 27,
          "metadata": {},
          "output_type": "execute_result"
        }
      ],
      "source": [
        "# Modify elements in a list\n",
        "\n",
        "months = ['jan', 'mar', 'apr']\n",
        "months[1] = 'Mar'\n",
        "months\n"
      ]
    },
    {
      "cell_type": "code",
      "execution_count": null,
      "metadata": {
        "id": "mghCEaYl-NqC"
      },
      "outputs": [],
      "source": [
        "# List\n",
        "# Ordered\n",
        "# allow duplicate\n",
        "# multiple values - one name\n",
        "# index a[0], a[-1]\n",
        "# slicing a[1:5]\n",
        "# modification a[i] = x  (mutable)\n",
        "# sort"
      ]
    },
    {
      "cell_type": "code",
      "execution_count": null,
      "metadata": {
        "colab": {
          "base_uri": "https://localhost:8080/",
          "height": 217
        },
        "id": "cwrXk4zX-iv4",
        "outputId": "390c3f69-8c69-4608-99fc-57ba63bc63b5"
      },
      "outputs": [
        {
          "name": "stdout",
          "output_type": "stream",
          "text": [
            "50\n"
          ]
        },
        {
          "ename": "TypeError",
          "evalue": "ignored",
          "output_type": "error",
          "traceback": [
            "\u001b[0;31m---------------------------------------------------------------------------\u001b[0m",
            "\u001b[0;31mTypeError\u001b[0m                                 Traceback (most recent call last)",
            "\u001b[0;32m<ipython-input-34-257daf384956>\u001b[0m in \u001b[0;36m<module>\u001b[0;34m()\u001b[0m\n\u001b[1;32m      3\u001b[0m \u001b[0mmarks\u001b[0m\u001b[0;34m\u001b[0m\u001b[0;34m\u001b[0m\u001b[0m\n\u001b[1;32m      4\u001b[0m \u001b[0mprint\u001b[0m\u001b[0;34m(\u001b[0m\u001b[0mmarks\u001b[0m\u001b[0;34m[\u001b[0m\u001b[0;36m0\u001b[0m\u001b[0;34m]\u001b[0m\u001b[0;34m)\u001b[0m \u001b[0;31m# indexing\u001b[0m\u001b[0;34m\u001b[0m\u001b[0;34m\u001b[0m\u001b[0m\n\u001b[0;32m----> 5\u001b[0;31m \u001b[0mmarks\u001b[0m\u001b[0;34m[\u001b[0m\u001b[0;36m0\u001b[0m\u001b[0;34m]\u001b[0m \u001b[0;34m=\u001b[0m \u001b[0;36m100\u001b[0m \u001b[0;31m# immutable\u001b[0m\u001b[0;34m\u001b[0m\u001b[0;34m\u001b[0m\u001b[0m\n\u001b[0m",
            "\u001b[0;31mTypeError\u001b[0m: 'tuple' object does not support item assignment"
          ]
        }
      ],
      "source": [
        "# Tuple\n",
        "marks = (50,80,25) # creation\n",
        "marks\n",
        "print(marks[0]) # indexing\n",
        "marks[0] = 100 # immutable\n",
        "\n",
        "\n"
      ]
    },
    {
      "cell_type": "code",
      "execution_count": null,
      "metadata": {
        "colab": {
          "base_uri": "https://localhost:8080/"
        },
        "id": "9JCpu_bu_lFz",
        "outputId": "ce85588f-2a53-488c-a086-8b4545be39b0"
      },
      "outputs": [
        {
          "name": "stdout",
          "output_type": "stream",
          "text": [
            "list [10, 52, 28]\n"
          ]
        },
        {
          "data": {
            "text/plain": [
              "(100, 52, 28)"
            ]
          },
          "execution_count": 84,
          "metadata": {},
          "output_type": "execute_result"
        }
      ],
      "source": [
        "marks = (10,52,28) \n",
        "marks = list(marks) # convert\n",
        "print('list', marks)\n",
        "marks[0] = 100\n",
        "marks\n",
        "marks = tuple(marks)\n",
        "marks"
      ]
    },
    {
      "cell_type": "code",
      "execution_count": null,
      "metadata": {
        "colab": {
          "base_uri": "https://localhost:8080/"
        },
        "id": "2MYYZ9QGALQL",
        "outputId": "b2fecda1-f0f6-4187-fbbb-a1d41580c60f"
      },
      "outputs": [
        {
          "data": {
            "text/plain": [
              "(25, 300)"
            ]
          },
          "execution_count": 85,
          "metadata": {},
          "output_type": "execute_result"
        }
      ],
      "source": [
        "# Slice\n",
        "marks = (150, 300,25,300)\n",
        "marks[2:4]\n",
        "# marks.sort()\n"
      ]
    },
    {
      "cell_type": "code",
      "execution_count": null,
      "metadata": {
        "colab": {
          "base_uri": "https://localhost:8080/"
        },
        "id": "gi6zGElPA0uB",
        "outputId": "fa58ebe1-8a46-4006-b802-0a8d9cdd941f"
      },
      "outputs": [
        {
          "data": {
            "text/plain": [
              "tuple"
            ]
          },
          "execution_count": 46,
          "metadata": {},
          "output_type": "execute_result"
        }
      ],
      "source": [
        "marks = (1,2)\n",
        "type(marks)"
      ]
    },
    {
      "cell_type": "code",
      "execution_count": null,
      "metadata": {
        "colab": {
          "base_uri": "https://localhost:8080/"
        },
        "id": "XQ54zHS4A-zC",
        "outputId": "a056d8d3-ffa7-4def-86b0-6940a1b459be"
      },
      "outputs": [
        {
          "data": {
            "text/plain": [
              "{'gectcr1', 'gectcr3'}"
            ]
          },
          "execution_count": 52,
          "metadata": {},
          "output_type": "execute_result"
        }
      ],
      "source": [
        "# Set\n",
        "#collection of values are under same name\n",
        "# duplicates not allowed\n",
        "# unordered\n",
        "roll_numbers = {'gectcr1', 'gectcr1', 'gectcr3'}\n",
        "roll_numbers\n"
      ]
    },
    {
      "cell_type": "code",
      "execution_count": null,
      "metadata": {
        "colab": {
          "base_uri": "https://localhost:8080/"
        },
        "id": "INua-LkHB9bL",
        "outputId": "3de4b5cb-bbdc-499e-84c7-2973425ffbf8"
      },
      "outputs": [
        {
          "data": {
            "text/plain": [
              "{'apple', 'banana', 'orange'}"
            ]
          },
          "execution_count": 54,
          "metadata": {},
          "output_type": "execute_result"
        }
      ],
      "source": [
        "fruits = {'apple', 'orange', 'banana'}\n",
        "fruits"
      ]
    },
    {
      "cell_type": "code",
      "execution_count": null,
      "metadata": {
        "colab": {
          "base_uri": "https://localhost:8080/"
        },
        "id": "nk7yf9wBCiZz",
        "outputId": "7c147358-cff8-4428-8c17-6a5b5306639b"
      },
      "outputs": [
        {
          "data": {
            "text/plain": [
              "False"
            ]
          },
          "execution_count": 55,
          "metadata": {},
          "output_type": "execute_result"
        }
      ],
      "source": [
        "# Searching in set is quicker than searching in list\n",
        "fruit_set = {'apple', 'banana', 'grapes'}\n",
        "fruit_list = ['apple', 'banana', 'grapes']\n",
        "'pine_apple' in fruit_set # Time for this operation is almost  independent on number of elements\n",
        "'pine_apple' in fruit_list # Time will be proprotional to number of elements"
      ]
    },
    {
      "cell_type": "code",
      "execution_count": null,
      "metadata": {
        "id": "9OT_-55kMQjP"
      },
      "outputs": [],
      "source": [
        ""
      ]
    },
    {
      "cell_type": "code",
      "execution_count": null,
      "metadata": {
        "colab": {
          "base_uri": "https://localhost:8080/"
        },
        "id": "7og7pfOCDw5i",
        "outputId": "dc267718-1a57-4cea-99d4-edb8a047443b"
      },
      "outputs": [
        {
          "data": {
            "text/plain": [
              "{'banana': 50, 'pine_apple': 25}"
            ]
          },
          "execution_count": 57,
          "metadata": {},
          "output_type": "execute_result"
        }
      ],
      "source": [
        "# Dict\n",
        "\n",
        "# key-value pairs\n",
        "price = {'banana': 50, 'pine_apple': 25 }\n",
        "price['banana']\n",
        "\n",
        "# Keys are unique\n",
        "\n",
        "25, 31\n",
        "# marks = [None, ....100.....NOne.. 99...NOne]\n",
        "marks = {'student25': 100, 'student31': 99}\n",
        "marks['student25'] \n",
        "\n",
        "\n",
        "\n",
        "\n",
        "\n"
      ]
    },
    {
      "cell_type": "code",
      "execution_count": null,
      "metadata": {
        "id": "UudvKL7CHLt2"
      },
      "outputs": [],
      "source": [
        "# Student details\n",
        "# Name, branch, year\n",
        "array_student = [{'Name': 'Mary', 'branch': 'CSE', 'year': 'second'}, {'Name': 'Charles', 'branch': 'CE', 'year': 'second'}]\n",
        "names = []\n",
        "branches = []\n",
        "years = \n"
      ]
    },
    {
      "cell_type": "code",
      "execution_count": null,
      "metadata": {
        "colab": {
          "base_uri": "https://localhost:8080/"
        },
        "id": "ot6wJLSVIH3h",
        "outputId": "bd5ec254-5a4a-4c4f-9deb-57214d94c88f"
      },
      "outputs": [
        {
          "name": "stdout",
          "output_type": "stream",
          "text": [
            "5\n"
          ]
        }
      ],
      "source": [
        "student = {} # Empty dict \n",
        "type(a)\n",
        "\n",
        "# Create\n",
        "student['name'] = 'Mary'\n",
        "student['branch'] = 'EE'\n",
        "student['cgpa'] = 5\n",
        "# Access\n",
        "print(student['cgpa']) # Give key error if key is not present\n",
        "print(student.get('cgpa','default'))   # return default value if key is not\n",
        "# dict_name.get(key, defaultvalue)"
      ]
    },
    {
      "cell_type": "code",
      "execution_count": null,
      "metadata": {
        "colab": {
          "base_uri": "https://localhost:8080/"
        },
        "id": "kqRII1T5KP1D",
        "outputId": "485706b3-7143-4e09-c318-29179c16aca0"
      },
      "outputs": [
        {
          "data": {
            "text/plain": [
              "{'name': 'John'}"
            ]
          },
          "execution_count": 76,
          "metadata": {},
          "output_type": "execute_result"
        }
      ],
      "source": [
        "student = {} # Empty dict \n",
        "\n",
        "# Create\n",
        "student['name'] = 'Mary'\n",
        "# Update\n",
        "student['name'] = 'John'\n",
        "student"
      ]
    },
    {
      "cell_type": "code",
      "execution_count": null,
      "metadata": {
        "id": "IaBicRV_H0_l"
      },
      "outputs": [],
      "source": [
        "# Enter n - number of students\n",
        "# Input student details name, branch and year\n",
        "# store them in a list of dict"
      ]
    },
    {
      "cell_type": "code",
      "execution_count": null,
      "metadata": {
        "colab": {
          "base_uri": "https://localhost:8080/"
        },
        "id": "_ZDU5LESDfsV",
        "outputId": "51c9bd0a-f50c-4a5d-9c64-96c4156ef40d"
      },
      "outputs": [
        {
          "name": "stdout",
          "output_type": "stream",
          "text": [
            "Name\n",
            "Mary\n",
            "branch\n",
            "CSE\n",
            "year\n",
            "second\n"
          ]
        }
      ],
      "source": [
        "student = {'Name': 'Mary', 'branch': 'CSE', 'year': 'second'}\n",
        "keys = student.keys()\n",
        "values = student.values()\n",
        "#iterating through keys\n",
        "for key in student:\n",
        "  print(key)\n",
        "  print(student[key])\n",
        "# for key in student.keys():\n",
        "#   print(key)"
      ]
    },
    {
      "cell_type": "code",
      "execution_count": null,
      "metadata": {
        "colab": {
          "base_uri": "https://localhost:8080/"
        },
        "id": "9q0ZS4v2LTar",
        "outputId": "7745a64f-8c9d-4079-c416-8cbde4db7dd9"
      },
      "outputs": [
        {
          "name": "stdout",
          "output_type": "stream",
          "text": [
            "dict_keys(['Name', 'branch', 'year'])\n",
            "dict_values(['Mary', 'CSE', 'second'])\n"
          ]
        }
      ],
      "source": [
        "student = {'Name': 'Mary', 'branch': 'CSE', 'year': 'second'}\n",
        "keys = student.keys()\n",
        "values = student.values()\n",
        "\n",
        "print(keys)\n",
        "print(values)"
      ]
    },
    {
      "cell_type": "code",
      "execution_count": null,
      "metadata": {
        "colab": {
          "base_uri": "https://localhost:8080/"
        },
        "id": "Kz7kK5ltLDqX",
        "outputId": "a9c01e7f-70d4-495f-cab9-ce72ae84b344"
      },
      "outputs": [
        {
          "data": {
            "text/plain": [
              "[8, 7, 6, 5, 4, 3]"
            ]
          },
          "execution_count": 90,
          "metadata": {},
          "output_type": "execute_result"
        }
      ],
      "source": [
        "a = [0,1,2,3,4,5,6,7,8]\n",
        "# a[2:5] # 2,3,4\n",
        "#a[2:5:1]\n",
        "a[1:7:3] # 1,4,\n",
        "a[-1:-7:-1]\n"
      ]
    },
    {
      "cell_type": "markdown",
      "metadata": {
        "id": "2AKYxauN8y6r"
      },
      "source": [
        "**4 Feb 2022**"
      ]
    },
    {
      "cell_type": "markdown",
      "metadata": {
        "id": "VeaORobe813X"
      },
      "source": [
        ""
      ]
    },
    {
      "cell_type": "code",
      "execution_count": null,
      "metadata": {
        "colab": {
          "base_uri": "https://localhost:8080/"
        },
        "id": "VMQVdzMo87iy",
        "outputId": "21cdff5a-f9ef-489c-aeca-8f6700987e03"
      },
      "outputs": [
        {
          "data": {
            "text/plain": [
              "[5, 6, 9, 8, 2]"
            ]
          },
          "execution_count": 4,
          "metadata": {},
          "output_type": "execute_result"
        }
      ],
      "source": [
        "# list - square brackets\n",
        "\n",
        "a = []\n",
        "a.append(5)\n",
        "\n",
        "b = [5,6,9,8,2]\n",
        "b"
      ]
    },
    {
      "cell_type": "code",
      "execution_count": null,
      "metadata": {
        "colab": {
          "base_uri": "https://localhost:8080/"
        },
        "id": "R1RqmTjC-Wh3",
        "outputId": "3821808e-8df4-4deb-a823-413d9e63ee19"
      },
      "outputs": [
        {
          "data": {
            "text/plain": [
              "[8, 90, 2, 99, 17, 20]"
            ]
          },
          "execution_count": 5,
          "metadata": {},
          "output_type": "execute_result"
        }
      ],
      "source": [
        "students = [50, 201, 16, 5, 21, 8,90,2,99,17,20, 100, 50]\n",
        "# marks of student 5 -10\n",
        "\n",
        "students[5:11]"
      ]
    },
    {
      "cell_type": "code",
      "execution_count": null,
      "metadata": {
        "colab": {
          "base_uri": "https://localhost:8080/"
        },
        "id": "Z1gauc6I_9bJ",
        "outputId": "f7b88ac8-d7b0-4ad3-d086-310f20a0d0c6"
      },
      "outputs": [
        {
          "name": "stdout",
          "output_type": "stream",
          "text": [
            "[10, 29, 36, 52]\n"
          ]
        }
      ],
      "source": [
        "marks = [10,52,29,36]\n",
        "marks.sort()\n",
        "\n",
        "print(marks)"
      ]
    },
    {
      "cell_type": "code",
      "execution_count": null,
      "metadata": {
        "colab": {
          "base_uri": "https://localhost:8080/"
        },
        "id": "Q0-fguqnAppW",
        "outputId": "922f229b-522d-42e6-e407-e3b3807a0248"
      },
      "outputs": [
        {
          "data": {
            "text/plain": [
              "False"
            ]
          },
          "execution_count": 35,
          "metadata": {},
          "output_type": "execute_result"
        }
      ],
      "source": [
        "marks = [10,52,29,36]\n",
        "marks[1] = 64\n",
        "marks\n",
        "\n",
        "100 in marks # membership\n"
      ]
    },
    {
      "cell_type": "code",
      "execution_count": null,
      "metadata": {
        "colab": {
          "base_uri": "https://localhost:8080/",
          "height": 252
        },
        "id": "sZrOlwT2BML0",
        "outputId": "37a9396f-b5e1-4e7c-9be4-f4d1c82d170c"
      },
      "outputs": [
        {
          "name": "stdout",
          "output_type": "stream",
          "text": [
            "John\n"
          ]
        },
        {
          "ename": "TypeError",
          "evalue": "ignored",
          "output_type": "error",
          "traceback": [
            "\u001b[0;31m---------------------------------------------------------------------------\u001b[0m",
            "\u001b[0;31mTypeError\u001b[0m                                 Traceback (most recent call last)",
            "\u001b[0;32m<ipython-input-13-3ab4251130a5>\u001b[0m in \u001b[0;36m<module>\u001b[0;34m()\u001b[0m\n\u001b[1;32m      6\u001b[0m \u001b[0;34m\u001b[0m\u001b[0m\n\u001b[1;32m      7\u001b[0m \u001b[0;31m# Immutable  - Static - cannot be\u001b[0m\u001b[0;34m\u001b[0m\u001b[0;34m\u001b[0m\u001b[0;34m\u001b[0m\u001b[0m\n\u001b[0;32m----> 8\u001b[0;31m \u001b[0mnames\u001b[0m\u001b[0;34m[\u001b[0m\u001b[0;36m1\u001b[0m\u001b[0;34m]\u001b[0m \u001b[0;34m=\u001b[0m \u001b[0;34m'Mary'\u001b[0m\u001b[0;34m\u001b[0m\u001b[0;34m\u001b[0m\u001b[0m\n\u001b[0m\u001b[1;32m      9\u001b[0m \u001b[0;34m\u001b[0m\u001b[0m\n\u001b[1;32m     10\u001b[0m \u001b[0;34m\u001b[0m\u001b[0m\n",
            "\u001b[0;31mTypeError\u001b[0m: 'tuple' object does not support item assignment"
          ]
        }
      ],
      "source": [
        "# Tuple - simple brackets\n",
        "names = ('Maria', 'John', 'Charles')\n",
        "names\n",
        "# Indexing\n",
        "print(names[1])\n",
        "\n",
        "# Immutable  - Static - doesnot item assignment\n",
        "names[1] = 'Mary'\n",
        "\n",
        "# It is simpler and faster than list\n",
        "\n"
      ]
    },
    {
      "cell_type": "code",
      "execution_count": null,
      "metadata": {
        "colab": {
          "base_uri": "https://localhost:8080/",
          "height": 200
        },
        "id": "Cx02JtueDSKM",
        "outputId": "39e2a089-ac85-4643-b8f7-dd9e0642c33d"
      },
      "outputs": [
        {
          "ename": "AttributeError",
          "evalue": "ignored",
          "output_type": "error",
          "traceback": [
            "\u001b[0;31m---------------------------------------------------------------------------\u001b[0m",
            "\u001b[0;31mAttributeError\u001b[0m                            Traceback (most recent call last)",
            "\u001b[0;32m<ipython-input-16-d9af9bd8eae6>\u001b[0m in \u001b[0;36m<module>\u001b[0;34m()\u001b[0m\n\u001b[1;32m      1\u001b[0m \u001b[0mnames\u001b[0m \u001b[0;34m=\u001b[0m \u001b[0;34m(\u001b[0m\u001b[0;34m'Maria'\u001b[0m\u001b[0;34m,\u001b[0m \u001b[0;34m'John'\u001b[0m\u001b[0;34m,\u001b[0m \u001b[0;34m'Charles'\u001b[0m\u001b[0;34m)\u001b[0m\u001b[0;34m\u001b[0m\u001b[0;34m\u001b[0m\u001b[0m\n\u001b[1;32m      2\u001b[0m \u001b[0mnames\u001b[0m \u001b[0;34m=\u001b[0m \u001b[0;34m(\u001b[0m\u001b[0;34m'Mary'\u001b[0m\u001b[0;34m,\u001b[0m \u001b[0;34m'John'\u001b[0m\u001b[0;34m,\u001b[0m \u001b[0;34m'Charles'\u001b[0m\u001b[0;34m)\u001b[0m\u001b[0;34m\u001b[0m\u001b[0;34m\u001b[0m\u001b[0m\n\u001b[0;32m----> 3\u001b[0;31m \u001b[0mnames\u001b[0m\u001b[0;34m.\u001b[0m\u001b[0msort\u001b[0m\u001b[0;34m(\u001b[0m\u001b[0;34m)\u001b[0m\u001b[0;34m\u001b[0m\u001b[0;34m\u001b[0m\u001b[0m\n\u001b[0m",
            "\u001b[0;31mAttributeError\u001b[0m: 'tuple' object has no attribute 'sort'"
          ]
        }
      ],
      "source": [
        "names = ('Maria', 'John', 'Charles')\n",
        "names = ('Mary', 'John', 'Charles')\n",
        "names[1:2]\n",
        "\n",
        "names.sort()"
      ]
    },
    {
      "cell_type": "code",
      "execution_count": null,
      "metadata": {
        "colab": {
          "base_uri": "https://localhost:8080/",
          "height": 200
        },
        "id": "DfXIYDo6ErYS",
        "outputId": "1cf29b1d-7dfb-423b-e7df-e3316175b682"
      },
      "outputs": [
        {
          "ename": "TypeError",
          "evalue": "ignored",
          "output_type": "error",
          "traceback": [
            "\u001b[0;31m---------------------------------------------------------------------------\u001b[0m",
            "\u001b[0;31mTypeError\u001b[0m                                 Traceback (most recent call last)",
            "\u001b[0;32m<ipython-input-22-6d2ec9024f6d>\u001b[0m in \u001b[0;36m<module>\u001b[0;34m()\u001b[0m\n\u001b[1;32m      1\u001b[0m \u001b[0;31m# Sets\u001b[0m\u001b[0;34m\u001b[0m\u001b[0;34m\u001b[0m\u001b[0;34m\u001b[0m\u001b[0m\n\u001b[1;32m      2\u001b[0m \u001b[0ms\u001b[0m \u001b[0;34m=\u001b[0m \u001b[0;34m{\u001b[0m\u001b[0;36m1\u001b[0m\u001b[0;34m,\u001b[0m\u001b[0;36m2\u001b[0m\u001b[0;34m,\u001b[0m\u001b[0;36m3\u001b[0m\u001b[0;34m,\u001b[0m\u001b[0;36m4\u001b[0m\u001b[0;34m,\u001b[0m \u001b[0;36m2\u001b[0m\u001b[0;34m,\u001b[0m \u001b[0;36m5\u001b[0m\u001b[0;34m}\u001b[0m\u001b[0;34m\u001b[0m\u001b[0;34m\u001b[0m\u001b[0m\n\u001b[0;32m----> 3\u001b[0;31m \u001b[0ms\u001b[0m\u001b[0;34m[\u001b[0m\u001b[0;36m0\u001b[0m\u001b[0;34m]\u001b[0m \u001b[0;34m=\u001b[0m \u001b[0;36m50\u001b[0m\u001b[0;34m\u001b[0m\u001b[0;34m\u001b[0m\u001b[0m\n\u001b[0m",
            "\u001b[0;31mTypeError\u001b[0m: 'set' object does not support item assignment"
          ]
        }
      ],
      "source": [
        "# Sets\n",
        "s = {1,2,3,4, 2, 5}"
      ]
    },
    {
      "cell_type": "code",
      "execution_count": null,
      "metadata": {
        "colab": {
          "base_uri": "https://localhost:8080/",
          "height": 200
        },
        "id": "PIIA7IgLGD0B",
        "outputId": "e3bec168-2f9d-4256-dd8f-2bdf35e7934a"
      },
      "outputs": [
        {
          "ename": "AttributeError",
          "evalue": "ignored",
          "output_type": "error",
          "traceback": [
            "\u001b[0;31m---------------------------------------------------------------------------\u001b[0m",
            "\u001b[0;31mAttributeError\u001b[0m                            Traceback (most recent call last)",
            "\u001b[0;32m<ipython-input-31-180c09f97e84>\u001b[0m in \u001b[0;36m<module>\u001b[0;34m()\u001b[0m\n\u001b[1;32m      3\u001b[0m \u001b[0ms\u001b[0m\u001b[0;34m.\u001b[0m\u001b[0madd\u001b[0m\u001b[0;34m(\u001b[0m\u001b[0;36m5\u001b[0m\u001b[0;34m)\u001b[0m\u001b[0;34m\u001b[0m\u001b[0;34m\u001b[0m\u001b[0m\n\u001b[1;32m      4\u001b[0m \u001b[0ms\u001b[0m\u001b[0;34m\u001b[0m\u001b[0;34m\u001b[0m\u001b[0m\n\u001b[0;32m----> 5\u001b[0;31m \u001b[0ms\u001b[0m\u001b[0;34m.\u001b[0m\u001b[0msort\u001b[0m\u001b[0;34m(\u001b[0m\u001b[0;34m)\u001b[0m\u001b[0;34m\u001b[0m\u001b[0;34m\u001b[0m\u001b[0m\n\u001b[0m",
            "\u001b[0;31mAttributeError\u001b[0m: 'set' object has no attribute 'sort'"
          ]
        }
      ],
      "source": [
        "s = set()\n",
        "type(s)\n",
        "s.add(5)\n",
        "s\n",
        "s.sort()"
      ]
    },
    {
      "cell_type": "code",
      "execution_count": null,
      "metadata": {
        "colab": {
          "base_uri": "https://localhost:8080/"
        },
        "id": "OlLXdgZ8G_lU",
        "outputId": "0b16fedb-2760-4b78-a1cf-d899fcb26e02"
      },
      "outputs": [
        {
          "name": "stdout",
          "output_type": "stream",
          "text": [
            "Enter course perl\n",
            "not available\n"
          ]
        }
      ],
      "source": [
        "available_courses = {'java', 'python', 'c++'}\n",
        "\n",
        "user_course = input('Enter course ')\n",
        "\n",
        "# 'perl' in courses # membership operator\n",
        "if user_course in available_courses:\n",
        "  print('available')\n",
        "else:\n",
        "  print('not available')\n",
        "\n",
        "\n",
        "\n"
      ]
    },
    {
      "cell_type": "code",
      "execution_count": null,
      "metadata": {
        "colab": {
          "base_uri": "https://localhost:8080/"
        },
        "id": "DlmDtBMUKVa-",
        "outputId": "eda61a8d-8333-499e-f10c-4a24929eca87"
      },
      "outputs": [
        {
          "name": "stdout",
          "output_type": "stream",
          "text": [
            "Username george\n",
            "Registered\n"
          ]
        }
      ],
      "source": [
        "# facebook\n",
        "registered_users = {'abhi', 'jos', 'rekha'}\n",
        "user_name =input('Username ')\n",
        "\n",
        "if user_name in registered_users:\n",
        "  print('Welcome')\n",
        "else:\n",
        "  registered_users.add(user_name)\n",
        "  print('Registered')\n",
        "\n",
        "print(registered_users)\n",
        "\n",
        "\n"
      ]
    },
    {
      "cell_type": "code",
      "execution_count": null,
      "metadata": {
        "colab": {
          "base_uri": "https://localhost:8080/"
        },
        "id": "rKLq7btHLuQK",
        "outputId": "d9cf0cec-89f3-414e-82fa-619acdc5091c"
      },
      "outputs": [
        {
          "name": "stdout",
          "output_type": "stream",
          "text": [
            "{'abhi', 'george', 'jos', 'rekha'}\n",
            "Username george\n",
            "Welcome\n"
          ]
        }
      ],
      "source": [
        "print(registered_users)\n",
        "user_name =input('Username ')\n",
        "if user_name in registered_users:\n",
        "  print('Welcome')\n",
        "else:\n",
        "  registered_users.add(user_name)\n",
        "  print('Registered')"
      ]
    },
    {
      "cell_type": "code",
      "execution_count": null,
      "metadata": {
        "colab": {
          "base_uri": "https://localhost:8080/"
        },
        "id": "XzmdT-4QLFtS",
        "outputId": "114f9460-77e4-4db8-c3e5-2fd79fc4388c"
      },
      "outputs": [
        {
          "data": {
            "text/plain": [
              "{1, 2, 3, 5, 8}"
            ]
          },
          "execution_count": 50,
          "metadata": {},
          "output_type": "execute_result"
        }
      ],
      "source": [
        "# Operations in sets(University)\n",
        "\n",
        "# union, intersection, difference, symmetric_difference\n",
        "\n",
        "a = {1,2,3} # fb\n",
        "b = {2,5,8} # whatsapp\n",
        "\n",
        "# {1,2,3,5,8}\n",
        "\n",
        "a.union(b) # in atleast fb or whatspp\n",
        "a.intersection(b) # both in fb and whatsapp\n",
        "a.difference(b)  # Only in fb\n",
        "a.symmetric_difference(b) # Only in one of fb or whatsapp\n",
        "\n",
        "# compute all operations between b and a\n",
        "# union, intersection, difference, symmetric_difference\n",
        "b.union(a)\n",
        "\n",
        "\n"
      ]
    },
    {
      "cell_type": "code",
      "execution_count": null,
      "metadata": {
        "id": "ysBieETc-Rl9"
      },
      "outputs": [],
      "source": [
        "# University exam tips\n",
        "\n",
        "\n",
        "# Always give Python Examples even if it is not explicitly mentioned\n",
        "# (14 marks - 8 points python code + 6 explanation)\n",
        "\n",
        "# Syntax + Logic (6 = 3 + 3)\n",
        "\n",
        "# List - ordered, create, append, indexing, update, slicing, sorting\n",
        "# Tuple - ordered, create, indexing, slicing, \n",
        "# Sets - unordered, Unique elements, is not subscriptable (no indexing), no item assignment, add "
      ]
    },
    {
      "cell_type": "markdown",
      "metadata": {
        "id": "TW0Uihpyg6eL"
      },
      "source": [
        "**9 Feb 2022**"
      ]
    },
    {
      "cell_type": "code",
      "execution_count": null,
      "metadata": {
        "id": "GbyscY1-P3Mz"
      },
      "outputs": [],
      "source": [
        "# University questions - Factorial, checking prime or not, fibonacci"
      ]
    },
    {
      "cell_type": "code",
      "execution_count": null,
      "metadata": {
        "id": "U2LVwVECQzHA"
      },
      "outputs": [],
      "source": [
        "# Factorial\n",
        "'''\n",
        "n\n",
        "0! = 1\n",
        "n! = n * n-1 * n-2 ...*1\n",
        "\n",
        "4! = 1*2*3*4  = 24\n",
        "5! = 1*2*3*4*5 = 120 '''"
      ]
    },
    {
      "cell_type": "code",
      "execution_count": null,
      "metadata": {
        "colab": {
          "base_uri": "https://localhost:8080/"
        },
        "id": "np8FThLoRMRW",
        "outputId": "96d4c1ac-ea3e-4000-c50e-50e8a9690b7c"
      },
      "outputs": [
        {
          "data": {
            "text/plain": [
              "1"
            ]
          },
          "execution_count": 4,
          "metadata": {},
          "output_type": "execute_result"
        }
      ],
      "source": [
        "def get_factorial(n):\n",
        "  fact = 1\n",
        "  for i in range(1, n+1): # i = 1,2,3,..n\n",
        "     fact *= i\n",
        "  return fact\n",
        "\n",
        "\n",
        "get_factorial(5)\n",
        "get_factorial(4)\n",
        "get_factorial(6)\n",
        "get_factorial(0)"
      ]
    },
    {
      "cell_type": "code",
      "execution_count": null,
      "metadata": {
        "id": "GRLoVkT1Tt4U"
      },
      "outputs": [],
      "source": [
        "# Prime or not\n",
        "'''we call a number as prime if it has exactly 2 factors - 1 and the number itself\n",
        "1 - 1 -> not prime\n",
        "2 -> 1, 2 -> prime\n",
        "7 -> 1, 7 -> prime\n",
        "6 -> 1, 2, 3, 6 -> not prime\n",
        ".'''\n",
        "\n",
        "\n"
      ]
    },
    {
      "cell_type": "code",
      "execution_count": null,
      "metadata": {
        "colab": {
          "base_uri": "https://localhost:8080/"
        },
        "id": "OeR16yDIVvzj",
        "outputId": "a2c35bac-006d-4c54-91d1-22e1cba933ca"
      },
      "outputs": [
        {
          "data": {
            "text/plain": [
              "True"
            ]
          },
          "execution_count": 9,
          "metadata": {},
          "output_type": "execute_result"
        }
      ],
      "source": [
        "def is_prime(num):\n",
        "  if num <= 1:\n",
        "    return False\n",
        "  factors_count = 0\n",
        "  for i in range(1, num +1):\n",
        "    if num % i == 0:\n",
        "      factors_count += 1\n",
        "  return factors_count == 2\n",
        "  # if factors_count == 2:\n",
        "  #   return True\n",
        "  # else:\n",
        "  #   return False\n",
        "\n",
        "is_prime(2)\n",
        "is_prime(3)\n",
        "is_prime(4)\n",
        "is_prime(97)\n"
      ]
    },
    {
      "cell_type": "code",
      "execution_count": null,
      "metadata": {
        "colab": {
          "base_uri": "https://localhost:8080/"
        },
        "id": "4qQhhaYQVX40",
        "outputId": "22c64360-3937-4c01-dd31-8d32ad6615ac"
      },
      "outputs": [
        {
          "name": "stdout",
          "output_type": "stream",
          "text": [
            "1\n",
            "1\n",
            "2\n",
            "3\n",
            "5\n",
            "8\n"
          ]
        }
      ],
      "source": [
        "# Fibonacci series\n",
        "# 1,1,2,3,5,8,13...\n",
        "\n",
        "# first n fibonacci numbers\n",
        "def fibonacci(n):\n",
        "  a = 1\n",
        "  b = 1\n",
        "  print(a)\n",
        "  print(b)\n",
        "  for i in range(n-2):\n",
        "    c = a + b\n",
        "    a = b\n",
        "    b = c\n",
        "    print(c)\n",
        "\n",
        "fibonacci(6)\n",
        "\n",
        "\n",
        "\n",
        "\n",
        "\n"
      ]
    },
    {
      "cell_type": "markdown",
      "metadata": {
        "id": "-ICO84FoEEws"
      },
      "source": [
        "**11 Feb 2022**"
      ]
    },
    {
      "cell_type": "code",
      "execution_count": null,
      "metadata": {
        "colab": {
          "base_uri": "https://localhost:8080/"
        },
        "id": "XTf08o-bEK7W",
        "outputId": "ed09bf03-18af-4eb5-ec28-8c44e0aeda40"
      },
      "outputs": [
        {
          "data": {
            "text/plain": [
              "1.0"
            ]
          },
          "execution_count": 3,
          "metadata": {},
          "output_type": "execute_result"
        }
      ],
      "source": [
        "# Functions\n",
        "'''\n",
        "* Simple \n",
        "* Reuse code - prevent repetition\n",
        "* Abstraction - They hide all the complexities behind a simple function. Hiding how to do it from what to do.\n",
        "\n",
        "'''"
      ]
    },
    {
      "cell_type": "code",
      "execution_count": null,
      "metadata": {
        "id": "j7YoIcvFPTJA"
      },
      "outputs": [],
      "source": [
        "# \"syntax\"\n",
        "#def fun_name(args)"
      ]
    },
    {
      "cell_type": "code",
      "execution_count": null,
      "metadata": {
        "colab": {
          "base_uri": "https://localhost:8080/",
          "height": 200
        },
        "id": "DjaKm_2wPdr3",
        "outputId": "1d3fe2d4-2453-4c9d-b203-6ff4d9531b2e"
      },
      "outputs": [
        {
          "ename": "TypeError",
          "evalue": "ignored",
          "output_type": "error",
          "traceback": [
            "\u001b[0;31m---------------------------------------------------------------------------\u001b[0m",
            "\u001b[0;31mTypeError\u001b[0m                                 Traceback (most recent call last)",
            "\u001b[0;32m<ipython-input-14-9d5a07a18725>\u001b[0m in \u001b[0;36m<module>\u001b[0;34m()\u001b[0m\n\u001b[1;32m      5\u001b[0m \u001b[0mget_difference\u001b[0m\u001b[0;34m(\u001b[0m\u001b[0;36m5\u001b[0m\u001b[0;34m,\u001b[0m\u001b[0;36m2\u001b[0m\u001b[0;34m)\u001b[0m\u001b[0;34m\u001b[0m\u001b[0;34m\u001b[0m\u001b[0m\n\u001b[1;32m      6\u001b[0m \u001b[0mget_difference\u001b[0m\u001b[0;34m(\u001b[0m\u001b[0;36m2\u001b[0m\u001b[0;34m,\u001b[0m\u001b[0;36m5\u001b[0m\u001b[0;34m)\u001b[0m\u001b[0;34m\u001b[0m\u001b[0;34m\u001b[0m\u001b[0m\n\u001b[0;32m----> 7\u001b[0;31m \u001b[0mget_difference\u001b[0m\u001b[0;34m(\u001b[0m\u001b[0;36m3\u001b[0m\u001b[0;34m,\u001b[0m\u001b[0;36m2\u001b[0m\u001b[0;34m,\u001b[0m\u001b[0;36m5\u001b[0m\u001b[0;34m)\u001b[0m\u001b[0;34m\u001b[0m\u001b[0;34m\u001b[0m\u001b[0m\n\u001b[0m",
            "\u001b[0;31mTypeError\u001b[0m: get_difference() takes 2 positional arguments but 3 were given"
          ]
        }
      ],
      "source": [
        "# Required arguments or positional argument\n",
        "def get_difference(a, b):\n",
        "  return a - b\n",
        "\n",
        "get_difference(5,2)\n",
        "get_difference(2,5)\n",
        "get_difference(3,2,5) # number of argumkents exact match while calling"
      ]
    },
    {
      "cell_type": "code",
      "execution_count": null,
      "metadata": {
        "colab": {
          "base_uri": "https://localhost:8080/"
        },
        "id": "_MNpQvbCQN5p",
        "outputId": "c067f941-6893-4341-cc64-07c1a9a215f3"
      },
      "outputs": [
        {
          "data": {
            "text/plain": [
              "2"
            ]
          },
          "execution_count": 8,
          "metadata": {},
          "output_type": "execute_result"
        }
      ],
      "source": [
        "def get_difference(a, b=0): # default args should be at the end\n",
        "  return a - b\n",
        "\n",
        "get_difference(3,1)\n",
        "\n"
      ]
    },
    {
      "cell_type": "code",
      "execution_count": null,
      "metadata": {
        "colab": {
          "base_uri": "https://localhost:8080/",
          "height": 252
        },
        "id": "hweS8c8KQ1aN",
        "outputId": "6cd977b3-2ce4-4e37-8068-56b8d4b2f83e"
      },
      "outputs": [
        {
          "name": "stdout",
          "output_type": "stream",
          "text": [
            "Sreeragh.\n",
            "151\n"
          ]
        },
        {
          "ename": "TypeError",
          "evalue": "ignored",
          "output_type": "error",
          "traceback": [
            "\u001b[0;31m---------------------------------------------------------------------------\u001b[0m",
            "\u001b[0;31mTypeError\u001b[0m                                 Traceback (most recent call last)",
            "\u001b[0;32m<ipython-input-15-31b72064f353>\u001b[0m in \u001b[0;36m<module>\u001b[0;34m()\u001b[0m\n\u001b[1;32m      4\u001b[0m \u001b[0;34m\u001b[0m\u001b[0m\n\u001b[1;32m      5\u001b[0m \u001b[0mprint_data\u001b[0m\u001b[0;34m(\u001b[0m\u001b[0mnumber\u001b[0m\u001b[0;34m=\u001b[0m\u001b[0;36m150\u001b[0m\u001b[0;34m,\u001b[0m\u001b[0mname\u001b[0m\u001b[0;34m=\u001b[0m\u001b[0;34m'Sreeragh'\u001b[0m\u001b[0;34m,\u001b[0m \u001b[0mage\u001b[0m\u001b[0;34m=\u001b[0m\u001b[0;36m20\u001b[0m\u001b[0;34m)\u001b[0m \u001b[0;31m# keyword arguments - position is not a problem\u001b[0m\u001b[0;34m\u001b[0m\u001b[0;34m\u001b[0m\u001b[0m\n\u001b[0;32m----> 6\u001b[0;31m \u001b[0mprint_data\u001b[0m\u001b[0;34m(\u001b[0m\u001b[0mnumber\u001b[0m\u001b[0;34m=\u001b[0m\u001b[0;36m150\u001b[0m\u001b[0;34m,\u001b[0m\u001b[0mname\u001b[0m\u001b[0;34m=\u001b[0m\u001b[0;34m'Sreeragh'\u001b[0m\u001b[0;34m)\u001b[0m\u001b[0;34m\u001b[0m\u001b[0;34m\u001b[0m\u001b[0m\n\u001b[0m\u001b[1;32m      7\u001b[0m \u001b[0;34m\u001b[0m\u001b[0m\n",
            "\u001b[0;31mTypeError\u001b[0m: print_data() missing 1 required positional argument: 'age'"
          ]
        }
      ],
      "source": [
        "def print_data(name, number, age):\n",
        "  print(name + '.')\n",
        "  print(number + 1)\n",
        "\n",
        "print_data(number=150,name='Sreeragh', age=20) # keyword arguments - position is not a problem - but number of arguments should match\n",
        "print_data(number=150,name='Sreeragh') \n",
        "\n"
      ]
    },
    {
      "cell_type": "code",
      "execution_count": null,
      "metadata": {
        "colab": {
          "base_uri": "https://localhost:8080/"
        },
        "id": "EkEd5By_SeJe",
        "outputId": "f9b7981d-5939-4c93-bd47-f2c89dc8e6dd"
      },
      "outputs": [
        {
          "data": {
            "text/plain": [
              "23"
            ]
          },
          "execution_count": 20,
          "metadata": {},
          "output_type": "execute_result"
        }
      ],
      "source": [
        "# Variable length of arguments\n",
        "\n",
        "def get_sum(*numbers):\n",
        "  \n",
        "  return sum(numbers)\n",
        "\n",
        "\n",
        "\n",
        "get_sum(1,2)\n",
        "get_sum(1,2,3)\n",
        "get_sum(1,5,8,9)"
      ]
    },
    {
      "cell_type": "code",
      "execution_count": null,
      "metadata": {
        "colab": {
          "base_uri": "https://localhost:8080/"
        },
        "id": "bVZoqSNzU2zb",
        "outputId": "47120904-ec78-4df4-b505-bc588393b713"
      },
      "outputs": [
        {
          "name": "stdout",
          "output_type": "stream",
          "text": [
            "John\n",
            "(100, 99)\n",
            "Vishnu\n",
            "(100, 95, 87)\n"
          ]
        }
      ],
      "source": [
        "# Combine positional and variable\n",
        "\n",
        "def print_details(name, *marks):\n",
        "  print(name)\n",
        "  print(marks)\n",
        "\n",
        "print_details('John', 100,99)\n",
        "print_details('Vishnu', 100,95,87)\n"
      ]
    },
    {
      "cell_type": "code",
      "execution_count": null,
      "metadata": {
        "colab": {
          "base_uri": "https://localhost:8080/"
        },
        "id": "vR8R78xZUWG4",
        "outputId": "921ea198-14f7-498c-f103-128a66289af0"
      },
      "outputs": [
        {
          "data": {
            "text/plain": [
              "15"
            ]
          },
          "execution_count": 21,
          "metadata": {},
          "output_type": "execute_result"
        }
      ],
      "source": [
        "a = [1,2,3,9]\n",
        "sum(a)"
      ]
    },
    {
      "cell_type": "code",
      "execution_count": null,
      "metadata": {
        "colab": {
          "base_uri": "https://localhost:8080/",
          "height": 35
        },
        "id": "9kLPTlIMV0Gm",
        "outputId": "f4175110-8f56-4ff1-90ab-8c61d42a1dd9"
      },
      "outputs": [
        {
          "output_type": "execute_result",
          "data": {
            "application/vnd.google.colaboratory.intrinsic+json": {
              "type": "string"
            },
            "text/plain": [
              "'Abc_def'"
            ]
          },
          "metadata": {},
          "execution_count": 3
        }
      ],
      "source": [
        "# Higher  order function\n",
        "\n",
        "def combine_str(a,b):\n",
        "  print('Function')\n",
        "  return a+b\n",
        "\n",
        "def special_combine(a,b):\n",
        "  return a + '_' + b\n",
        "\n",
        "def get_fullname(first_name, last_name, fun1):\n",
        "  return fun1(first_name, last_name)\n",
        "\n",
        "get_fullname('Abc', 'def', combine_str)\n",
        "get_fullname('Abc', 'def', special_combine)"
      ]
    },
    {
      "cell_type": "code",
      "source": [
        "# Lambda function\n",
        "# Anonymous function - can be used with higher order functions\n",
        "# arguments, expression\n",
        "# no print statements allowed\n",
        "# Can only return one item - cannot return  multiple\n",
        "get_fullname('Abc', 'def', lambda a,b: a+b)"
      ],
      "metadata": {
        "colab": {
          "base_uri": "https://localhost:8080/",
          "height": 35
        },
        "id": "VkqvMob2ZGal",
        "outputId": "d66a9df2-ff38-4011-dc55-eb77f1e387e0"
      },
      "execution_count": null,
      "outputs": [
        {
          "output_type": "execute_result",
          "data": {
            "application/vnd.google.colaboratory.intrinsic+json": {
              "type": "string"
            },
            "text/plain": [
              "'Abcdef'"
            ]
          },
          "metadata": {},
          "execution_count": 4
        }
      ]
    },
    {
      "cell_type": "code",
      "source": [
        "def square(x):\n",
        "  return x*x\n",
        "\n",
        "old_list = [1,2,7,4]\n",
        "list(map(square, old_list) )# \n",
        " \n",
        "list(map(lambda x:x*x, old_list))\n"
      ],
      "metadata": {
        "colab": {
          "base_uri": "https://localhost:8080/"
        },
        "id": "-wMgwQ6xakTR",
        "outputId": "fcb5be66-20ca-47f2-d735-31e88842a742"
      },
      "execution_count": null,
      "outputs": [
        {
          "output_type": "execute_result",
          "data": {
            "text/plain": [
              "[1, 4, 49, 16]"
            ]
          },
          "metadata": {},
          "execution_count": 9
        }
      ]
    },
    {
      "cell_type": "code",
      "source": [
        "def get_result(a):\n",
        "  b = a + 6\n",
        "  return a,b\n",
        "\n",
        "get_result(5)"
      ],
      "metadata": {
        "colab": {
          "base_uri": "https://localhost:8080/"
        },
        "id": "so69JWFwcbFw",
        "outputId": "bb9b3c0f-dcf7-4152-d46d-44e4dfc84f0d"
      },
      "execution_count": null,
      "outputs": [
        {
          "output_type": "execute_result",
          "data": {
            "text/plain": [
              "(5, 11)"
            ]
          },
          "metadata": {},
          "execution_count": 14
        }
      ]
    },
    {
      "cell_type": "code",
      "source": [
        "get_lambda_result = lambda a: a\n",
        "get_lambda_result(5)"
      ],
      "metadata": {
        "colab": {
          "base_uri": "https://localhost:8080/"
        },
        "id": "NRENAitecvUC",
        "outputId": "2fa4d933-6490-4408-b6ad-999a4a0562c8"
      },
      "execution_count": null,
      "outputs": [
        {
          "output_type": "execute_result",
          "data": {
            "text/plain": [
              "5"
            ]
          },
          "metadata": {},
          "execution_count": 17
        }
      ]
    },
    {
      "cell_type": "code",
      "source": [
        "# Python builtin\n",
        "# sum (iterable)\n",
        "lis = [1,25,30,4,30]\n",
        "string = 'abcac'\n",
        "\n",
        "sum(lis)\n",
        "# count\n",
        "lis.count(30)\n",
        "string.count('b')\n",
        "\n",
        "# max and min\n",
        "max(lis)\n",
        "min(lis)\n",
        "\n",
        "# search in list\n",
        "lis.index(30) # return index of first appearance\n",
        "# lis.index(5) # index error\n",
        "\n",
        "# search in string - index and find\n",
        "string.index('a')\n",
        "\n",
        "string.find('z') # return -1 if element not present\n",
        "string.index('z')"
      ],
      "metadata": {
        "colab": {
          "base_uri": "https://localhost:8080/",
          "height": 200
        },
        "id": "g4PuWt_kd6AO",
        "outputId": "e54b43ed-2359-4484-9db6-15059f42e77e"
      },
      "execution_count": null,
      "outputs": [
        {
          "output_type": "error",
          "ename": "ValueError",
          "evalue": "ignored",
          "traceback": [
            "\u001b[0;31m---------------------------------------------------------------------------\u001b[0m",
            "\u001b[0;31mValueError\u001b[0m                                Traceback (most recent call last)",
            "\u001b[0;32m<ipython-input-38-142ba892a6a4>\u001b[0m in \u001b[0;36m<module>\u001b[0;34m()\u001b[0m\n\u001b[1;32m     21\u001b[0m \u001b[0;34m\u001b[0m\u001b[0m\n\u001b[1;32m     22\u001b[0m \u001b[0mstring\u001b[0m\u001b[0;34m.\u001b[0m\u001b[0mfind\u001b[0m\u001b[0;34m(\u001b[0m\u001b[0;34m'z'\u001b[0m\u001b[0;34m)\u001b[0m \u001b[0;31m# return -1 if element not present\u001b[0m\u001b[0;34m\u001b[0m\u001b[0;34m\u001b[0m\u001b[0m\n\u001b[0;32m---> 23\u001b[0;31m \u001b[0mstring\u001b[0m\u001b[0;34m.\u001b[0m\u001b[0mindex\u001b[0m\u001b[0;34m(\u001b[0m\u001b[0;34m'z'\u001b[0m\u001b[0;34m)\u001b[0m\u001b[0;34m\u001b[0m\u001b[0;34m\u001b[0m\u001b[0m\n\u001b[0m",
            "\u001b[0;31mValueError\u001b[0m: substring not found"
          ]
        }
      ]
    },
    {
      "cell_type": "code",
      "execution_count": null,
      "metadata": {
        "colab": {
          "base_uri": "https://localhost:8080/",
          "height": 35
        },
        "id": "_psK4jdtWHCH",
        "outputId": "1360e977-e64d-4028-8dcd-fd33e8e6b46c"
      },
      "outputs": [
        {
          "data": {
            "application/vnd.google.colaboratory.intrinsic+json": {
              "type": "string"
            },
            "text/plain": [
              "'abcdef'"
            ]
          },
          "execution_count": 24,
          "metadata": {},
          "output_type": "execute_result"
        }
      ],
      "source": [
        "'abc' + 'def'"
      ]
    }
  ],
  "metadata": {
    "colab": {
      "collapsed_sections": [],
      "name": "CST283.ipynb",
      "provenance": [],
      "include_colab_link": true
    },
    "kernelspec": {
      "display_name": "Python 3",
      "name": "python3"
    },
    "language_info": {
      "name": "python"
    }
  },
  "nbformat": 4,
  "nbformat_minor": 0
}